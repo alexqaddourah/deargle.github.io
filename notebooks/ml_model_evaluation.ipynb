{
 "cells": [
  {
   "cell_type": "code",
   "execution_count": 16,
   "metadata": {},
   "outputs": [],
   "source": [
    "import numpy as np\n",
    "import pandas as pd"
   ]
  },
  {
   "cell_type": "code",
   "execution_count": 117,
   "metadata": {},
   "outputs": [
    {
     "name": "stdout",
     "output_type": "stream",
     "text": [
      "['back' 'land' 'neptune' 'pod' 'smurf' 'teardrop']\n"
     ]
    }
   ],
   "source": [
    "# https://kdd.ics.uci.edu/databases/kddcup99/training_attack_types\n",
    "# Attack name and type\n",
    "data = '''back dos\n",
    "buffer_overflow u2r\n",
    "ftp_write r2l\n",
    "guess_passwd r2l\n",
    "imap r2l\n",
    "ipsweep probe\n",
    "land dos\n",
    "loadmodule u2r\n",
    "multihop r2l\n",
    "neptune dos\n",
    "nmap probe\n",
    "perl u2r\n",
    "phf r2l\n",
    "pod dos\n",
    "portsweep probe\n",
    "rootkit u2r\n",
    "satan probe\n",
    "smurf dos\n",
    "spy r2l\n",
    "teardrop dos\n",
    "warezclient r2l\n",
    "warezmaster r2l'''\n",
    "\n",
    "# grouped by type\n",
    "attack_types = pd.DataFrame([row.split() for row in data.split('\\n')], columns=['name','type'])\n",
    "dos_types = attack_types[attack_types['type'] == 'dos']['name'].values\n",
    "print(dos_types)"
   ]
  },
  {
   "cell_type": "code",
   "execution_count": 124,
   "metadata": {},
   "outputs": [
    {
     "name": "stdout",
     "output_type": "stream",
     "text": [
      "n records: 494020\n"
     ]
    }
   ],
   "source": [
    "from sklearn.datasets import fetch_openml\n",
    "X, y = fetch_openml(data_id='1113', return_X_y=True, as_frame=True)\n",
    "print('n records: {}'.format(len(X.index)))"
   ]
  },
  {
   "cell_type": "code",
   "execution_count": 141,
   "metadata": {},
   "outputs": [
    {
     "name": "stdout",
     "output_type": "stream",
     "text": [
      "Num DOS attack: 391458\n",
      "Num not DOS attack: 102562\n"
     ]
    }
   ],
   "source": [
    "is_dos_attack = y.isin(dos_types)\n",
    "print('Num DOS attack: {}'.format(is_dos_attack.sum()))\n",
    "print('Num not DOS attack: {}'.format((~is_dos_attack).sum()))"
   ]
  },
  {
   "cell_type": "code",
   "execution_count": null,
   "metadata": {},
   "outputs": [],
   "source": []
  }
 ],
 "metadata": {
  "kernelspec": {
   "display_name": "Python 3",
   "language": "python",
   "name": "python3"
  },
  "language_info": {
   "codemirror_mode": {
    "name": "ipython",
    "version": 3
   },
   "file_extension": ".py",
   "mimetype": "text/x-python",
   "name": "python",
   "nbconvert_exporter": "python",
   "pygments_lexer": "ipython3",
   "version": "3.7.1"
  }
 },
 "nbformat": 4,
 "nbformat_minor": 4
}
